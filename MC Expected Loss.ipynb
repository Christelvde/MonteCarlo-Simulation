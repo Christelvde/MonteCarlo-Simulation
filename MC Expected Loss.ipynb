{
 "cells": [
  {
   "cell_type": "markdown",
   "metadata": {},
   "source": [
    "# Analyzing EL at 99% percentile with Monte Carlo Simulations"
   ]
  },
  {
   "cell_type": "markdown",
   "metadata": {},
   "source": [
    "## Description of the problem we like to solve"
   ]
  },
  {
   "attachments": {
    "6eaba19c-b52d-4ddf-bb4e-11d47843a462.png": {
     "image/png": "[encoded data removed]"
    }
   },
   "cell_type": "markdown",
   "metadata": {},
   "source": [
    "We have 3 portfolios of assets.\n",
    "The average PD can change overtime.\n",
    "Let's calculate via a Monte Carlo simulation how the EL will change overtime.\n",
    "And let's analyse what the EL will be at 99 percentile.\n",
    "\n",
    "Starting situation:\n",
    "\n",
    "![image.png](attachment:6eaba19c-b52d-4ddf-bb4e-11d47843a462.png)"
   ]
  },
  {
   "cell_type": "markdown",
   "metadata": {},
   "source": [
    "## Function for calculating the EL"
   ]
  },
  {
   "cell_type": "markdown",
   "metadata": {},
   "source": [
    "We need to recalculate the EL of al 3 portfolios, based on 3 generated PD's.\n",
    "We keep the EAD and LGD the same for the 3 portfolios."
   ]
  },
  {
   "cell_type": "code",
   "execution_count": 83,
   "metadata": {},
   "outputs": [
    {
     "data": {
      "text/plain": [
       "2431.89864"
      ]
     },
     "execution_count": 83,
     "metadata": {},
     "output_type": "execute_result"
    }
   ],
   "source": [
    "def el_calculation(pd_1=0.028, pd_2=0.031, pd_3=0.0491):\n",
    "    el = (pd_1 * 40320 * 0.2) + (pd_2 * 52920 * 0.38) + (pd_3 * 73260 * 0.44)\n",
    "    return el\n",
    "\n",
    "el_calculation() # test function with default parameters"
   ]
  },
  {
   "cell_type": "markdown",
   "metadata": {},
   "source": [
    "It works for the initial inputs, also trying with other inputs."
   ]
  },
  {
   "cell_type": "code",
   "execution_count": 86,
   "metadata": {},
   "outputs": [
    {
     "data": {
      "text/plain": [
       "2537.4672"
      ]
     },
     "execution_count": 86,
     "metadata": {},
     "output_type": "execute_result"
    }
   ],
   "source": [
    "el_calculation(0.035, 0.032, 0.05)"
   ]
  },
  {
   "cell_type": "markdown",
   "metadata": {},
   "source": [
    "So it seems our model function is working correctly."
   ]
  },
  {
   "cell_type": "markdown",
   "metadata": {},
   "source": [
    "## Run the model with Monte Carlo Simulations"
   ]
  },
  {
   "cell_type": "markdown",
   "metadata": {},
   "source": [
    "Now we have to generate 3 PD's based on standard deviation en run the model for 10000 times.\n",
    "We will create a function for this.\n",
    "Via the random library we can generate random pd's based on standard deviation."
   ]
  },
  {
   "cell_type": "code",
   "execution_count": 91,
   "metadata": {},
   "outputs": [
    {
     "name": "stdout",
     "output_type": "stream",
     "text": [
      "There are 10000 results. First five:\n"
     ]
    },
    {
     "data": {
      "text/plain": [
       "[-609.8330239037956,\n",
       " 5811.876030061954,\n",
       " 976.3906084605115,\n",
       " 4542.299989711537,\n",
       " -595.0625764840073]"
      ]
     },
     "execution_count": 91,
     "metadata": {},
     "output_type": "execute_result"
    }
   ],
   "source": [
    "import random\n",
    "\n",
    "def ports_el_simulations(pd_1_mean=0.028, pd_2_mean=0.031, pd_3_mean=0.0491, std=0.05, n_iter=10000):\n",
    "    outputs = []\n",
    "    for i in range(n_iter):\n",
    "        pd_1 = random.normalvariate(pd_1_mean, std)\n",
    "        pd_2 = random.normalvariate(pd_2_mean, std)\n",
    "        pd_3 = random.normalvariate(pd_3_mean, std)\n",
    "        el = el_calculation(pd_1, pd_2, pd_3)\n",
    "        outputs.append(el)\n",
    "    return outputs\n",
    "\n",
    "results = ports_el_simulations()\n",
    "print(f'There are {len(results)} results. First five:')\n",
    "results[:5]"
   ]
  },
  {
   "cell_type": "markdown",
   "metadata": {},
   "source": [
    "## Analyze the Outputs"
   ]
  },
  {
   "cell_type": "markdown",
   "metadata": {},
   "source": [
    "#### Probabilities table"
   ]
  },
  {
   "cell_type": "markdown",
   "metadata": {},
   "source": [
    "We would like to see two other kinds of outputs. One is a table of probabilities, along with the result which is achived at that probability in the distribution. E.g. at 20%, only 20% of cases are lower than the given value. At 75%, 75% of cases are lower than the given value."
   ]
  },
  {
   "cell_type": "markdown",
   "metadata": {},
   "source": [
    "First we'll get the percentiles we want to explore in the table."
   ]
  },
  {
   "cell_type": "code",
   "execution_count": 97,
   "metadata": {
    "scrolled": true
   },
   "outputs": [
    {
     "data": {
      "text/plain": [
       "[0.01,\n",
       " 0.02,\n",
       " 0.03,\n",
       " 0.04,\n",
       " 0.05,\n",
       " 0.06,\n",
       " 0.07,\n",
       " 0.08,\n",
       " 0.09,\n",
       " 0.1,\n",
       " 0.11,\n",
       " 0.12,\n",
       " 0.13,\n",
       " 0.14,\n",
       " 0.15,\n",
       " 0.16,\n",
       " 0.17,\n",
       " 0.18,\n",
       " 0.19,\n",
       " 0.2,\n",
       " 0.21,\n",
       " 0.22,\n",
       " 0.23,\n",
       " 0.24,\n",
       " 0.25,\n",
       " 0.26,\n",
       " 0.27,\n",
       " 0.28,\n",
       " 0.29,\n",
       " 0.3,\n",
       " 0.31,\n",
       " 0.32,\n",
       " 0.33,\n",
       " 0.34,\n",
       " 0.35,\n",
       " 0.36,\n",
       " 0.37,\n",
       " 0.38,\n",
       " 0.39,\n",
       " 0.4,\n",
       " 0.41,\n",
       " 0.42,\n",
       " 0.43,\n",
       " 0.44,\n",
       " 0.45,\n",
       " 0.46,\n",
       " 0.47,\n",
       " 0.48,\n",
       " 0.49,\n",
       " 0.5,\n",
       " 0.51,\n",
       " 0.52,\n",
       " 0.53,\n",
       " 0.54,\n",
       " 0.55,\n",
       " 0.56,\n",
       " 0.57,\n",
       " 0.58,\n",
       " 0.59,\n",
       " 0.6,\n",
       " 0.61,\n",
       " 0.62,\n",
       " 0.63,\n",
       " 0.64,\n",
       " 0.65,\n",
       " 0.66,\n",
       " 0.67,\n",
       " 0.68,\n",
       " 0.69,\n",
       " 0.7,\n",
       " 0.71,\n",
       " 0.72,\n",
       " 0.73,\n",
       " 0.74,\n",
       " 0.75,\n",
       " 0.76,\n",
       " 0.77,\n",
       " 0.78,\n",
       " 0.79,\n",
       " 0.8,\n",
       " 0.81,\n",
       " 0.82,\n",
       " 0.83,\n",
       " 0.84,\n",
       " 0.85,\n",
       " 0.86,\n",
       " 0.87,\n",
       " 0.88,\n",
       " 0.89,\n",
       " 0.9,\n",
       " 0.91,\n",
       " 0.92,\n",
       " 0.93,\n",
       " 0.94,\n",
       " 0.95,\n",
       " 0.96,\n",
       " 0.97,\n",
       " 0.98,\n",
       " 0.99]"
      ]
     },
     "execution_count": 97,
     "metadata": {},
     "output_type": "execute_result"
    }
   ],
   "source": [
    "percentiles = [i/100 for i in range(1, 100)]\n",
    "percentiles"
   ]
  },
  {
   "cell_type": "markdown",
   "metadata": {},
   "source": [
    "Now we can use the `.quantile` method from `pandas` to get this table easily. "
   ]
  },
  {
   "cell_type": "code",
   "execution_count": 100,
   "metadata": {},
   "outputs": [
    {
     "data": {
      "text/plain": [
       "0.01   -2113.382951\n",
       "0.02   -1596.338423\n",
       "0.03   -1224.939750\n",
       "0.04   -1011.921196\n",
       "0.05    -818.988722\n",
       "           ...     \n",
       "0.95    5634.087342\n",
       "0.96    5842.279970\n",
       "0.97    6089.334387\n",
       "0.98    6393.675730\n",
       "0.99    6856.906881\n",
       "Name: Portfolio ELs, Length: 99, dtype: float64"
      ]
     },
     "execution_count": 100,
     "metadata": {},
     "output_type": "execute_result"
    }
   ],
   "source": [
    "import pandas as pd\n",
    "\n",
    "df = pd.DataFrame()\n",
    "df['Portfolio ELs'] = results\n",
    "df['Portfolio ELs'].quantile(percentiles)"
   ]
  },
  {
   "cell_type": "markdown",
   "metadata": {},
   "source": [
    "#### Probability of achieving objective"
   ]
  },
  {
   "cell_type": "markdown",
   "metadata": {},
   "source": [
    "The other kind of output is the probability that we will achieve our objective. We want to find the probability we will have with an EL of 2,432. We expect to have this around 50% of all cases. Lets's find out if this is a correct estimation.\n",
    "There's not a direct `pandas` function for this. What we want to calculate is basically the percentage of observations that have a value equal to or higher than our desired objective (2,432). We convert the boolean answers to integers, via this function:"
   ]
  },
  {
   "cell_type": "code",
   "execution_count": 104,
   "metadata": {
    "scrolled": true
   },
   "outputs": [
    {
     "data": {
      "text/plain": [
       "0       0\n",
       "1       1\n",
       "2       0\n",
       "3       1\n",
       "4       0\n",
       "       ..\n",
       "9995    1\n",
       "9996    1\n",
       "9997    0\n",
       "9998    1\n",
       "9999    0\n",
       "Name: Portfolio ELs, Length: 10000, dtype: int32"
      ]
     },
     "execution_count": 104,
     "metadata": {},
     "output_type": "execute_result"
    }
   ],
   "source": [
    "( df['Portfolio ELs'] >= 2432 ).astype(int)"
   ]
  },
  {
   "cell_type": "markdown",
   "metadata": {},
   "source": [
    "Now we have 1 when it is greater, and 0 otherwise. So the average of this will produce the probability."
   ]
  },
  {
   "cell_type": "markdown",
   "metadata": {},
   "source": [
    "### Putting the Visualization and Probabilities Together"
   ]
  },
  {
   "cell_type": "markdown",
   "metadata": {},
   "source": [
    "We just want to wrap this up into a few functions, to make it easier to run for the next step."
   ]
  },
  {
   "cell_type": "code",
   "execution_count": 109,
   "metadata": {},
   "outputs": [
    {
     "data": {
      "image/png": "[encoded data removed]",
      "text/plain": [
       "<Figure size 640x480 with 1 Axes>"
      ]
     },
     "metadata": {},
     "output_type": "display_data"
    },
    {
     "name": "stdout",
     "output_type": "stream",
     "text": [
      "Probability Table\n",
      "0.01    $-2113.38\n",
      "0.02    $-1596.34\n",
      "0.03    $-1224.94\n",
      "0.04    $-1011.92\n",
      "0.05     $-818.99\n",
      "          ...    \n",
      "0.95     $5634.09\n",
      "0.96     $5842.28\n",
      "0.97     $6089.33\n",
      "0.98     $6393.68\n",
      "0.99     $6856.91\n",
      "Name: Portfolio ELs, Length: 99, dtype: object\n",
      "\n",
      "Probability of EL $2,432 : 49.4%\n",
      "\n"
     ]
    }
   ],
   "source": [
    "import matplotlib.pyplot as plt\n",
    "\n",
    "def probability_table(df):\n",
    "    percentiles = [i/100 for i in range(1, 100)]\n",
    "    return df['Portfolio ELs'].quantile(percentiles)\n",
    "\n",
    "def probability_of_objective(df, desired_el):\n",
    "    return ( df['Portfolio ELs'] >= desired_el ).astype(int).mean()\n",
    "\n",
    "def model_outputs(results, desired_el):\n",
    "    df = pd.DataFrame()\n",
    "    df['Portfolio ELs'] = results\n",
    "    df.plot.hist(bins=100)\n",
    "    plt.show()  # makes plot show right now, which we will need when running this multiple times\n",
    "    prob_table = probability_table(df)\n",
    "    prob_objective = probability_of_objective(df, desired_el=desired_el)\n",
    "    return prob_table, prob_objective\n",
    "\n",
    "def display_model_summary(results, desired_el=2432):\n",
    "    prob_table, prob_objective = model_outputs(results, desired_el=desired_el)\n",
    "    print('Probability Table')\n",
    "    print(prob_table.apply(lambda x: f'${x:.2f}'))  # a way of formatting a pandas series\n",
    "    print('')\n",
    "    print(f'Probability of EL ${desired_el:,.0f} : {prob_objective:.1%}')\n",
    "    print('')\n",
    "    \n",
    "display_model_summary(results)"
   ]
  },
  {
   "cell_type": "markdown",
   "metadata": {},
   "source": [
    "## Conclusions"
   ]
  },
  {
   "cell_type": "markdown",
   "metadata": {},
   "source": [
    "With this EL calculation for our 3 portfolio's we are with an EL of 6969.82 save at 99% of the cases.\n",
    "The probability of EL having 2,432 is indeed around 50%."
   ]
  },
  {
   "cell_type": "code",
   "execution_count": null,
   "metadata": {},
   "outputs": [],
   "source": []
  },
  {
   "cell_type": "code",
   "execution_count": null,
   "metadata": {},
   "outputs": [],
   "source": []
  }
 ],
 "metadata": {
  "kernelspec": {
   "display_name": "Python 3 (ipykernel)",
   "language": "python",
   "name": "python3"
  },
  "language_info": {
   "codemirror_mode": {
    "name": "ipython",
    "version": 3
   },
   "file_extension": ".py",
   "mimetype": "text/x-python",
   "name": "python",
   "nbconvert_exporter": "python",
   "pygments_lexer": "ipython3",
   "version": "3.12.7"
  }
 },
 "nbformat": 4,
 "nbformat_minor": 4
}
